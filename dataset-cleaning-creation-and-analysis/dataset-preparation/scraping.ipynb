{
 "cells": [
  {
   "attachments": {},
   "cell_type": "markdown",
   "metadata": {},
   "source": [
    "## Scraping\n"
   ]
  },
  {
   "cell_type": "code",
   "execution_count": null,
   "metadata": {},
   "outputs": [],
   "source": [
    "import time\n",
    "from selenium import webdriver\n",
    "import pandas as pd\n",
    "from selenium import webdriver\n",
    "from webdriver_manager.chrome import ChromeDriverManager\n",
    "from selenium import webdriver\n",
    "from selenium.webdriver.common.by import By\n",
    "from selenium.webdriver.support.ui import WebDriverWait\n",
    "from selenium.webdriver.support import expected_conditions as EC"
   ]
  },
  {
   "cell_type": "code",
   "execution_count": null,
   "metadata": {},
   "outputs": [],
   "source": [
    "driver = webdriver.Chrome(ChromeDriverManager().install())"
   ]
  },
  {
   "cell_type": "code",
   "execution_count": null,
   "metadata": {},
   "outputs": [],
   "source": [
    "driver.get(\"https://pradan.issdc.gov.in/ch2/protected/payload.xhtml\")\n",
    "#input the username and password in chrome driver"
   ]
  },
  {
   "cell_type": "code",
   "execution_count": null,
   "metadata": {},
   "outputs": [],
   "source": [
    "driver.get(\"https://pradan.issdc.gov.in/ch2/protected/browse.xhtml?id=tmc2\")\n",
    "#change the settings to show 100 rows \n",
    "#filter the filename to oth "
   ]
  },
  {
   "cell_type": "code",
   "execution_count": null,
   "metadata": {},
   "outputs": [],
   "source": [
    "ohrc_df = pd.DataFrame(index=range(855),columns=['name','ul_la',\t'ul_lo',\t'ur_la',\t'ur_lo',\t'll_la',\t'll_lo',\t'lr_la',\t'lr_lo'])"
   ]
  },
  {
   "cell_type": "code",
   "execution_count": null,
   "metadata": {},
   "outputs": [],
   "source": [
    "for i in range(8):\n",
    "    metadata = WebDriverWait(driver, 20).until(EC.visibility_of_element_located((By.ID, 'tableForm:lazyDocTable:'+str(100*i)+':j_idt158')))\n",
    "    for j in range(100):\n",
    "        try:\n",
    "            metadata = driver.find_element(\"id\", 'tableForm:lazyDocTable:'+str(100*i+j)+':j_idt158')\n",
    "            metadata.click()\n",
    "            element = WebDriverWait(driver, 40).until(EC.visibility_of_element_located((By.XPATH, '//*[@id=\"tableForm:docDetail_node_0_8_5_1_1_0_1\"]/td[2]')))\n",
    "            ohrc_df.name[100*i+j] = driver.find_element(\"xpath\", '//*[@id=\"tableForm:lazyDocTable_data\"]/tr['+str(j+1)+']/td[3]').text\n",
    "            ohrc_df.ul_la[100*i+j] = driver.find_element(\"xpath\", '//*[@id=\"tableForm:docDetail_node_0_8_5_1_2_0_1\"]/td[2]').text\n",
    "            ohrc_df.ul_lo[100*i+j] = driver.find_element(\"xpath\", '//*[@id=\"tableForm:docDetail_node_0_8_5_1_2_1_1\"]/td[2]').text\n",
    "            ohrc_df.ur_la[100*i+j] = driver.find_element(\"xpath\", '//*[@id=\"tableForm:docDetail_node_0_8_5_1_2_2_1\"]/td[2]').text\n",
    "            ohrc_df.ur_lo[100*i+j] = driver.find_element(\"xpath\", '//*[@id=\"tableForm:docDetail_node_0_8_5_1_2_3_1\"]/td[2]').text\n",
    "            ohrc_df.ll_la[100*i+j] = driver.find_element(\"xpath\", '//*[@id=\"tableForm:docDetail_node_0_8_5_1_2_4_1\"]/td[2]').text\n",
    "            ohrc_df.ll_lo[100*i+j] = driver.find_element(\"xpath\", '//*[@id=\"tableForm:docDetail_node_0_8_5_1_2_5_1\"]/td[2]').text\n",
    "            ohrc_df.lr_la[100*i+j] = driver.find_element(\"xpath\", '//*[@id=\"tableForm:docDetail_node_0_8_5_1_2_6_1\"]/td[2]').text\n",
    "            ohrc_df.lr_lo[100*i+j] = driver.find_element(\"xpath\", '//*[@id=\"tableForm:docDetail_node_0_8_5_1_2_7_1\"]/td[2]').text\n",
    "            close = WebDriverWait(driver, 20).until(EC.visibility_of_element_located((By.XPATH, '//*[@id=\"tableForm:j_idt173\"]/div[1]/a')))\n",
    "            close.click()\n",
    "\n",
    "        except:\n",
    "            metadata = driver.find_element(\"id\", 'tableForm:lazyDocTable:'+str(100*i+j)+':j_idt158')\n",
    "            metadata.click()\n",
    "            element = WebDriverWait(driver, 40).until(EC.visibility_of_element_located((By.XPATH, '//*[@id=\"tableForm:docDetail_node_0_8_5_1_1_0_1\"]/td[2]')))\n",
    "            ohrc_df.name[100*i+j] = driver.find_element(\"xpath\", '//*[@id=\"tableForm:lazyDocTable_data\"]/tr['+str(j+1)+']/td[3]').text\n",
    "            ohrc_df.ul_la[100*i+j] = driver.find_element(\"xpath\", '//*[@id=\"tableForm:docDetail_node_0_8_5_1_1_0_1\"]/td[2]').text\n",
    "            ohrc_df.ul_lo[100*i+j] = driver.find_element(\"xpath\", '//*[@id=\"tableForm:docDetail_node_0_8_5_1_1_1_1\"]/td[2]').text\n",
    "            ohrc_df.ur_la[100*i+j] = driver.find_element(\"xpath\", '//*[@id=\"tableForm:docDetail_node_0_8_5_1_1_2_1\"]/td[2]').text\n",
    "            ohrc_df.ur_lo[100*i+j] = driver.find_element(\"xpath\", '//*[@id=\"tableForm:docDetail_node_0_8_5_1_1_3_1\"]/td[2]').text\n",
    "            ohrc_df.ll_la[100*i+j] = driver.find_element(\"xpath\", '//*[@id=\"tableForm:docDetail_node_0_8_5_1_1_4_1\"]/td[2]').text\n",
    "            ohrc_df.ll_lo[100*i+j] = driver.find_element(\"xpath\", '//*[@id=\"tableForm:docDetail_node_0_8_5_1_1_5_1\"]/td[2]').text\n",
    "            ohrc_df.lr_la[100*i+j] = driver.find_element(\"xpath\", '//*[@id=\"tableForm:docDetail_node_0_8_5_1_1_6_1\"]/td[2]').text\n",
    "            ohrc_df.lr_lo[100*i+j] = driver.find_element(\"xpath\", '//*[@id=\"tableForm:docDetail_node_0_8_5_1_1_7_1\"]/td[2]').text\n",
    "            close = WebDriverWait(driver, 20).until(EC.visibility_of_element_located((By.XPATH, '//*[@id=\"tableForm:j_idt173\"]/div[1]/a')))\n",
    "            close.click()\n",
    "            print(\"r \" + str(100*i+j))\n",
    "            \n",
    "        \n",
    "\n",
    "\n",
    "    next = WebDriverWait(driver, 20).until(EC.visibility_of_element_located((By.XPATH, '//*[@id=\"tableForm:lazyDocTable_paginator_bottom\"]/a[3]')))\n",
    "    next.click()\n"
   ]
  },
  {
   "cell_type": "code",
   "execution_count": null,
   "metadata": {},
   "outputs": [],
   "source": [
    "for i in range(len(ohrc_df)): #change the range of longitudes to (-180,180]\n",
    "    if(ohrc_df.ul_lo[i]>180):\n",
    "        ohrc_df.ul_lo[i]-=360\n",
    "    if(ohrc_df.ur_lo[i]>180):\n",
    "        ohrc_df.ur_lo[i]-=360\n",
    "    if(ohrc_df.ll_lo[i]>180):\n",
    "        ohrc_df.ll_lo[i]-=360\n",
    "    if(ohrc_df.lr_lo[i]>180):\n",
    "        ohrc_df.lr_lo[i]-=360\n",
    "\n",
    "for i in range(855): \n",
    "    for j in range(1,9):\n",
    "        ohrc_df.iloc[i,j]=float(ohrc_df.iloc[i,j])"
   ]
  },
  {
   "cell_type": "code",
   "execution_count": null,
   "metadata": {},
   "outputs": [],
   "source": [
    "ohrc_df.to_csv(\"csv_files/tmc_oth.csv\")"
   ]
  },
  {
   "cell_type": "code",
   "execution_count": null,
   "metadata": {},
   "outputs": [],
   "source": [
    "driver.get(\"https://pradan.issdc.gov.in/ch2/protected/browse.xhtml?id=ohrc\")\n",
    "#change the settings to show 100 rows"
   ]
  },
  {
   "cell_type": "code",
   "execution_count": null,
   "metadata": {},
   "outputs": [],
   "source": [
    "nac_df = pd.DataFrame(index=range(90), columns=['ul_la','ul_lo','ur_la','ur_lo','ll_la','ll_lo','lr_la','lr_lo'])"
   ]
  },
  {
   "cell_type": "code",
   "execution_count": null,
   "metadata": {},
   "outputs": [],
   "source": [
    "for j in range(90):\n",
    "    try:\n",
    "        metadata = driver.find_element(\"id\", 'tableForm:lazyDocTable:'+str(j)+':j_idt158')\n",
    "        metadata.click()\n",
    "        element = WebDriverWait(driver, 5).until(EC.visibility_of_element_located((By.XPATH, '//*[@id=\"tableForm:docDetail_node_0_8_5_1_1_0_1\"]/td[2]')))\n",
    "        nac_df.ul_la[j] = driver.find_element(\"xpath\", '//*[@id=\"tableForm:docDetail_node_0_8_5_1_1_0_1\"]/td[2]').text\n",
    "        nac_df.ul_lo[j] = driver.find_element(\"xpath\", '//*[@id=\"tableForm:docDetail_node_0_8_5_1_1_1_1\"]/td[2]').text\n",
    "        nac_df.ur_la[j] = driver.find_element(\"xpath\", '//*[@id=\"tableForm:docDetail_node_0_8_5_1_1_2_1\"]/td[2]').text\n",
    "        nac_df.ur_lo[j] = driver.find_element(\"xpath\", '//*[@id=\"tableForm:docDetail_node_0_8_5_1_1_3_1\"]/td[2]').text\n",
    "        nac_df.ll_la[j] = driver.find_element(\"xpath\", '//*[@id=\"tableForm:docDetail_node_0_8_5_1_1_4_1\"]/td[2]').text\n",
    "        nac_df.ll_lo[j] = driver.find_element(\"xpath\", '//*[@id=\"tableForm:docDetail_node_0_8_5_1_1_5_1\"]/td[2]').text\n",
    "        nac_df.lr_la[j] = driver.find_element(\"xpath\", '//*[@id=\"tableForm:docDetail_node_0_8_5_1_1_6_1\"]/td[2]').text\n",
    "        nac_df.lr_lo[j] = driver.find_element(\"xpath\", '//*[@id=\"tableForm:docDetail_node_0_8_5_1_1_7_1\"]/td[2]').text\n",
    "        close = WebDriverWait(driver, 20).until(EC.visibility_of_element_located((By.XPATH, '//*[@id=\"tableForm:j_idt173\"]/div[1]/a')))\n",
    "        close.click()\n",
    "       \n",
    "    except:\n",
    "        element = WebDriverWait(driver, 20).until(EC.visibility_of_element_located((By.XPATH, '//*[@id=\"tableForm:docDetail_node_0_8_5_1_0_0_1\"]')))\n",
    "        nac_df.ul_la[j] = driver.find_element(\"xpath\", '//*[@id=\"tableForm:docDetail_node_0_8_5_1_0_0_1\"]/td[2]').text\n",
    "        nac_df.ul_lo[j] = driver.find_element(\"xpath\", '//*[@id=\"tableForm:docDetail_node_0_8_5_1_0_1_1\"]/td[2]').text\n",
    "        nac_df.ur_la[j] = driver.find_element(\"xpath\", '//*[@id=\"tableForm:docDetail_node_0_8_5_1_0_2_1\"]/td[2]').text\n",
    "        nac_df.ur_lo[j] = driver.find_element(\"xpath\", '//*[@id=\"tableForm:docDetail_node_0_8_5_1_0_3_1\"]/td[2]').text\n",
    "        nac_df.ll_la[j] = driver.find_element(\"xpath\", '//*[@id=\"tableForm:docDetail_node_0_8_5_1_0_4_1\"]/td[2]').text\n",
    "        nac_df.ll_lo[j] = driver.find_element(\"xpath\", '//*[@id=\"tableForm:docDetail_node_0_8_5_1_0_5_1\"]/td[2]').text\n",
    "        nac_df.lr_la[j] = driver.find_element(\"xpath\", '//*[@id=\"tableForm:docDetail_node_0_8_5_1_0_6_1\"]/td[2]').text\n",
    "        nac_df.lr_lo[j] = driver.find_element(\"xpath\", '//*[@id=\"tableForm:docDetail_node_0_8_5_1_0_7_1\"]/td[2]').text\n",
    "        close = WebDriverWait(driver, 20).until(EC.visibility_of_element_located((By.XPATH, '//*[@id=\"tableForm:j_idt173\"]/div[1]/a')))\n",
    "        close.click()\n",
    "        \n",
    "        "
   ]
  },
  {
   "cell_type": "code",
   "execution_count": null,
   "metadata": {},
   "outputs": [],
   "source": [
    "for i in range(len(nac_df)): #change the range of longitudes to (-180,180]\n",
    "    if(nac_df.ul_lo[i]>180):\n",
    "        nac_df.ul_lo[i]-=360\n",
    "    if(nac_df.ur_lo[i]>180):\n",
    "        nac_df.ur_lo[i]-=360\n",
    "    if(nac_df.ll_lo[i]>180):\n",
    "        nac_df.ll_lo[i]-=360\n",
    "    if(nac_df.lr_lo[i]>180):\n",
    "        nac_df.lr_lo[i]-=360"
   ]
  },
  {
   "cell_type": "code",
   "execution_count": null,
   "metadata": {},
   "outputs": [],
   "source": [
    "nac_df.to_csv(\"csv_files/ohrc.csv\")"
   ]
  },
  {
   "attachments": {},
   "cell_type": "markdown",
   "metadata": {},
   "source": [
    "The area with high density of TMC-2 images:\n",
    "\n",
    "-118 to -68 (longitudes)  \n",
    "\n",
    "3 to 60 (latitudes)\n",
    "\n",
    "The coordinates and image dimension of the NAC images from this area will be scraped further"
   ]
  },
  {
   "cell_type": "code",
   "execution_count": null,
   "metadata": {},
   "outputs": [],
   "source": [
    "nac_names = pd.read_csv(\"csv_files/nac_names.csv\")"
   ]
  },
  {
   "cell_type": "code",
   "execution_count": null,
   "metadata": {},
   "outputs": [],
   "source": [
    "length  = len(nac_names)\n",
    "nac_df = pd.DataFrame(index= range(length), columns=['name','ul_la','ul_lo','ur_la','ur_lo','ll_la','ll_lo','lr_la','lr_lo','width','height'])\n",
    "nac_df.iloc[:,0] = nac_names.name"
   ]
  },
  {
   "cell_type": "code",
   "execution_count": null,
   "metadata": {},
   "outputs": [],
   "source": [
    "for i in range (length):\n",
    "    driver.get(\"http://wms.lroc.asu.edu/lroc/view_lroc/LRO-L-LROC-3-CDR-V1.0/\"+str(df.iloc[:,0][i]))\n",
    "    nac_df.iloc[:,1][i]=driver.find_element(\"xpath\", '//*[@id=\"info\"]/table/tbody/tr[62]/td[2]').text\n",
    "    nac_df.iloc[:,2][i]=driver.find_element(\"xpath\", '//*[@id=\"info\"]/table/tbody/tr[63]/td[2]').text\n",
    "    nac_df.iloc[:,3][i]=driver.find_element(\"xpath\", '//*[@id=\"info\"]/table/tbody/tr[56]/td[2]').text\n",
    "    nac_df.iloc[:,4][i]=driver.find_element(\"xpath\", '//*[@id=\"info\"]/table/tbody/tr[57]/td[2]').text\n",
    "    nac_df.iloc[:,5][i]=driver.find_element(\"xpath\", '//*[@id=\"info\"]/table/tbody/tr[60]/td[2]').text\n",
    "    nac_df.iloc[:,6][i]=driver.find_element(\"xpath\", '//*[@id=\"info\"]/table/tbody/tr[61]/td[2]').text\n",
    "    nac_df.iloc[:,7][i]=driver.find_element(\"xpath\", '//*[@id=\"info\"]/table/tbody/tr[58]/td[2]').text\n",
    "    nac_df.iloc[:,8][i]=driver.find_element(\"xpath\", '//*[@id=\"info\"]/table/tbody/tr[59]/td[2]').text\n",
    "    nac_df.iloc[:,9][i]=driver.find_element(\"xpath\", '//*[@id=\"info\"]/table/tbody/tr[38]/td[2]').text\n",
    "    nac_df.iloc[:,10][i]=driver.find_element(\"xpath\", '//*[@id=\"info\"]/table/tbody/tr[37]/td[2]').text"
   ]
  },
  {
   "cell_type": "code",
   "execution_count": 4,
   "metadata": {},
   "outputs": [],
   "source": [
    "nac_df.to_csv(\"csv_files/nac.csv\")"
   ]
  },
  {
   "cell_type": "code",
   "execution_count": null,
   "metadata": {},
   "outputs": [],
   "source": []
  }
 ],
 "metadata": {
  "kernelspec": {
   "display_name": "Python 3",
   "language": "python",
   "name": "python3"
  },
  "language_info": {
   "codemirror_mode": {
    "name": "ipython",
    "version": 3
   },
   "file_extension": ".py",
   "mimetype": "text/x-python",
   "name": "python",
   "nbconvert_exporter": "python",
   "pygments_lexer": "ipython3",
   "version": "3.10.6"
  },
  "orig_nbformat": 4,
  "vscode": {
   "interpreter": {
    "hash": "916dbcbb3f70747c44a77c7bcd40155683ae19c65e1c03b4aa3499c5328201f1"
   }
  }
 },
 "nbformat": 4,
 "nbformat_minor": 2
}
